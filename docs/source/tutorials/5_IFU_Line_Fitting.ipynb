{
 "cells": [
  {
   "cell_type": "code",
   "execution_count": 1,
   "id": "58c99339",
   "metadata": {},
   "outputs": [],
   "source": [
    "%matplotlib notebook"
   ]
  },
  {
   "cell_type": "markdown",
   "id": "d28e3ce0",
   "metadata": {},
   "source": [
    "# 5) IFU line fitting"
   ]
  },
  {
   "cell_type": "markdown",
   "id": "d4e08fb4",
   "metadata": {},
   "source": [
    "In this tutorial, we perform a pre-analysis of an IFU (Integral Field Unit) cube. These data sets provide both spatial and spectroscopic information of astronomical bodies. You can download this tutorial as a [python script](https://github.com/Vital-Fernandez/lime/blob/master/examples/example4_IFU_masking.py) or a [jupyter notebook](https://github.com/Vital-Fernandez/lime/blob/master/docs/source/tutorials/4_IFU_Spatial_Masking.ipynb).\n"
   ]
  },
  {
   "cell_type": "markdown",
   "id": "f96c3deb",
   "metadata": {},
   "source": [
    "The workflow for an IFU observation is very similar to the one we saw in the previous tutorials for long-slit spectra. However, in order to preserve the spatial information and to maximise the quality of the measurements, it is recommended to use spatial masks. These provide two advantages:\n",
    "* In most cases, the scientific data does not cover full IFU field of view. To maximise your time and the computational resources, the non-scientific/noisy regions should be excluded from the analysis.\n",
    "* In resolved observations, the phenomena responsible for the observed radiation do not remain constant. This means that the properties of the emission lines can vary dramatically in a few spaxels. Consequently, your fittings should adapt to this spatial behaviour. Binary masks provide the means to personalise $LiMe$ fittings."
   ]
  },
  {
   "cell_type": "markdown",
   "id": "683ce288",
   "metadata": {},
   "source": [
    "Let’s start by downloading one IFU data cube from the [MANGA survey](https://www.sdss4.org/surveys/manga/). In this tutorial, we will analyze [SHOC579](https://dr17.sdss.org/marvin/galaxy/8626-12704/), a compact galaxy with an intense star forming region:"
   ]
  },
  {
   "cell_type": "markdown",
   "id": "caf6cf90",
   "metadata": {},
   "source": [
    "<img src=\"https://data.sdss.org/sas/dr17/manga/spectro/redux/v3_1_1/8626/images/12704.png\" alt=\"Image showing the bands selection for a line\" title=\"Bands for the H1_3889A line\"/>\n"
   ]
  },
  {
   "cell_type": "markdown",
   "id": "da4ec91f",
   "metadata": {},
   "source": [
    "In the new plot, you can can select the masks available within the ``spatial_mask`` file we generated before. If you left double-click on a spaxel it will be added to the current mask if it was not (by default this spaxel will be removed from its previous mask). Otherwise, if the spaxel was already on the current mask, it will be removed from the selection."
   ]
  },
  {
   "cell_type": "markdown",
   "id": "45225944",
   "metadata": {},
   "source": [
    "You can use this manual selection, for example, to generate masks with certain lines o profiles. This will be very usefull for the fittings in the next tutorial."
   ]
  }
 ],
 "metadata": {
  "kernelspec": {
   "display_name": "Python 3 (ipykernel)",
   "language": "python",
   "name": "python3"
  },
  "language_info": {
   "codemirror_mode": {
    "name": "ipython",
    "version": 3
   },
   "file_extension": ".py",
   "mimetype": "text/x-python",
   "name": "python",
   "nbconvert_exporter": "python",
   "pygments_lexer": "ipython3",
   "version": "3.9.7"
  }
 },
 "nbformat": 4,
 "nbformat_minor": 5
}
