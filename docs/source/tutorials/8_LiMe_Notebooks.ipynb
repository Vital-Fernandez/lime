{
 "cells": [
  {
   "cell_type": "markdown",
   "metadata": {
    "collapsed": true,
    "pycharm": {
     "name": "#%% md\n"
    }
   },
   "source": [
    "# 8) Using LiMe in Jupyter Notebooks"
   ]
  },
  {
   "cell_type": "markdown",
   "metadata": {
    "pycharm": {
     "name": "#%% md\n"
    }
   },
   "source": [
    "LiMe functions should work in any IDE (Integrated Developement Environment) including [Jupyter Notebooks](https://jupyter.org/)."
   ]
  },
  {
   "cell_type": "markdown",
   "metadata": {
    "pycharm": {
     "name": "#%% md\n"
    }
   },
   "source": [
    "However, many of LiMe plotting tools make use of [matplotlib widgets](https://matplotlib.org/stable/gallery/index.html#widgets) to select data or review the measurements. To take advantange of these features (as well as the default matplotlib [plot tools](https://matplotlib.org/stable/users/explain/interactive.html)) in a notebook, a few extra lines of code are necessary. "
   ]
  },
  {
   "cell_type": "markdown",
   "metadata": {},
   "source": [
    "In this tutorial, we are going to repeat a few of the previous examples to make sure you can run these widgets. Moreover, this documention page has been compiled from a notebook file. It can be downloaded from the library github page at this [link](https://github.com/Vital-Fernandez/lime/blob/master/docs/source/tutorials/8_LiMe_Notebooks.ipynb). Finally, you can also find the scientific data at the github [link](https://github.com/Vital-Fernandez/lime/tree/master/examples)."
   ]
  },
  {
   "cell_type": "markdown",
   "metadata": {},
   "source": [
    "Let's start runing the example from the [third tutorial](https://lime-stable.readthedocs.io/en/latest/tutorials/3_CompleteSpec.html):"
   ]
  },
  {
   "cell_type": "code",
   "execution_count": null,
   "metadata": {},
   "outputs": [],
   "source": [
    "import numpy\n",
    "from astropy.io import fits"
   ]
  }
 ],
 "metadata": {
  "kernelspec": {
   "display_name": "Python 3.9.7 ('lime')",
   "language": "python",
   "name": "python3"
  },
  "language_info": {
   "codemirror_mode": {
    "name": "ipython",
    "version": 3
   },
   "file_extension": ".py",
   "mimetype": "text/x-python",
   "name": "python",
   "nbconvert_exporter": "python",
   "pygments_lexer": "ipython3",
   "version": "3.9.7"
  },
  "vscode": {
   "interpreter": {
    "hash": "71ebc03a34f055ed82d7f9ca45c02c9ab616c7c0f59bbdc09299c0a5095a129d"
   }
  }
 },
 "nbformat": 4,
 "nbformat_minor": 1
}
