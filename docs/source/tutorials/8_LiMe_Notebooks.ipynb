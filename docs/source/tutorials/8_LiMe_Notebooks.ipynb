{
 "cells": [
  {
   "cell_type": "markdown",
   "metadata": {
    "collapsed": true,
    "pycharm": {
     "name": "#%% md\n"
    }
   },
   "source": [
    "# 8) Using LiMe in Notebooks"
   ]
  },
  {
   "cell_type": "markdown",
   "metadata": {
    "pycharm": {
     "name": "#%% md\n"
    }
   },
   "source": [
    "LiMe functions should work in any IDE (Integrated Developement Environment) including [Jupyter Notebooks](https://jupyter.org/)."
   ]
  },
  {
   "cell_type": "markdown",
   "metadata": {
    "pycharm": {
     "name": "#%% md\n"
    }
   },
   "source": [
    "However, many of LiMe plotting tools make use of [matplotlib widgets](https://matplotlib.org/stable/gallery/index.html#widgets). To take advantange of these features (as well as the default matpltolib [plot tools](https://matplotlib.org/stable/users/explain/interactive.html)) in a notebook, a few extra lines of code are necessary. "
   ]
  },
  {
   "cell_type": "markdown",
   "metadata": {},
   "source": [
    "In this tutorial, we are going to repeat a few of the previous examples to show how to configure run these widgets. Moreover, this documention page has been compiled from a notebook file. It can be downloaded from the github page at this [matplotlib widgets](https://matplotlib.org/stable/gallery/index.html#widgets).  "
   ]
  }
 ],
 "metadata": {
  "kernelspec": {
   "display_name": "Python 3",
   "language": "python",
   "name": "python3"
  },
  "language_info": {
   "codemirror_mode": {
    "name": "ipython",
    "version": 3
   },
   "file_extension": ".py",
   "mimetype": "text/x-python",
   "name": "python",
   "nbconvert_exporter": "python",
   "pygments_lexer": "ipython3",
   "version": "3.8.8"
  }
 },
 "nbformat": 4,
 "nbformat_minor": 1
}
