{
 "cells": [
  {
   "cell_type": "markdown",
   "id": "e0547148",
   "metadata": {},
   "source": [
    "(line-labels-doc)=\n",
    "# Line labels"
   ]
  },
  {
   "cell_type": "markdown",
   "id": "e8c047ad",
   "metadata": {},
   "source": [
    "In order to measure a line, $\\mathrm{LiMe}$ requires a name that includes the particle responsible for the transition and its wavelength. This design follows the style used in the [PyNeb](http://research.iac.es/proyecto/PyNeb/) library by [Luridiana et al. (2015)](https://www.aanda.org/articles/aa/abs/2015/01/aa23152-13/aa23152-13.html) and [Morisset et al. (2020)](https://www.mdp)."
   ]
  },
  {
   "cell_type": "markdown",
   "id": "742828d4-8724-4326-9536-532cf7efe2d1",
   "metadata": {},
   "source": [
    "<img src=\"../0_resources/images/label_components.png\" alt=\"line labels\" title=\"LiMe notation\" width=\"1060\" />"
   ]
  },
  {
   "cell_type": "markdown",
   "id": "a1e7c656-9073-4bf0-9277-b8fb99cf9c1f",
   "metadata": {},
   "source": [
    "As can be seen in the figure above, we have **core** components and **optional** components. Components are separated by underscores (**_**), while items within a component are separated by dashes (**-**)."
   ]
  },
  {
   "cell_type": "markdown",
   "id": "347db39a",
   "metadata": {},
   "source": [
    "<div class=\"alert alert-success\" role=\"alert\">\n",
    "\n",
    "**Remember:** $LiMe$ includes a [lines database](../1_introduction/4_lines_database.ipynb) where you can find the default labels. You can get a copy from this table running:\n",
    "\n",
    "</div>"
   ]
  },
  {
   "cell_type": "code",
   "execution_count": 17,
   "id": "0f67eb57",
   "metadata": {},
   "outputs": [],
   "source": [
    "import lime\n",
    "\n",
    "lines_database = lime.lines_frame()"
   ]
  },
  {
   "cell_type": "markdown",
   "id": "51806c5b",
   "metadata": {},
   "source": [
    "This is a [pandas dataframe](https://pandas.pydata.org/docs/reference/api/pandas.DataFrame.html):"
   ]
  },
  {
   "cell_type": "code",
   "execution_count": 18,
   "id": "28846ade",
   "metadata": {},
   "outputs": [
    {
     "data": {
      "text/plain": [
       "array(['H1_1216A', 'O4_1401A', 'O4_1405A', 'O4_1407A', 'N4_1483A'],\n",
       "      dtype=object)"
      ]
     },
     "execution_count": 18,
     "metadata": {},
     "output_type": "execute_result"
    }
   ],
   "source": [
    "lines_database.index[:5].to_numpy()"
   ]
  },
  {
   "cell_type": "markdown",
   "id": "b0e33a81",
   "metadata": {},
   "source": [
    "## Core components "
   ]
  },
  {
   "cell_type": "markdown",
   "id": "2326e35c",
   "metadata": {},
   "source": [
    "These are the compulsory elements of the label whose order is fixed."
   ]
  },
  {
   "cell_type": "markdown",
   "id": "d0f4a23b",
   "metadata": {},
   "source": [
    "### 1) Particle"
   ]
  },
  {
   "cell_type": "markdown",
   "id": "0acc815f",
   "metadata": {},
   "source": [
    "The first component of the line label indicates the particle responsible for the transition.\n",
    "\n",
    "By default, $\\mathrm{LiMe}$ expects the particle’s chemical symbol\n",
    " followed by the ionization state in Arabic numerals. If the particle is recognized, its mass will be used to compute the thermal dispersion velocity correction in the output measurements.\n",
    "\n",
    "The user can add additional details to the transition via dashes. For example, **1_18750A*, *H1-PaschenAlpha_1.875nm*, and *H1-3comps_1.875nm* are all processed similarly, with the hydrogen ion correctly recognized."
   ]
  },
  {
   "cell_type": "markdown",
   "id": "e5dea3ca",
   "metadata": {},
   "source": [
    "### 2) Wavelength"
   ]
  },
  {
   "cell_type": "markdown",
   "id": "8405b8aa",
   "metadata": {},
   "source": [
    "The second item is the transition wavelength. This positive real number must be followed by the transition’s wavelength or frequency units. These units must follow [AstroPy notation](https://docs.astropy.org/en/stable/units/standard_units.html), with the exception of the Angstroms, which can be defined with \"A\" in addition to \"AA\" or \"Angstrom\"."
   ]
  },
  {
   "cell_type": "markdown",
   "id": "634ae76f-06b2-4563-a8e6-f4b4c6586bbf",
   "metadata": {},
   "source": [
    "<div class=\"alert alert-warning\">\n",
    "\n",
    "Please note: In the default $\\mathrm{LiMe}$ database, the label wavelength and the actual transition wavelength value follow standard notation: transitions with $2000 , \\text{\\AA} < \\lambda < 10000 , \\text{\\AA}$ use the air wavelength. For example, notice that **He1_10832A** uses the vacuum wavelength, unlike the **S3_9530A** line:\n",
    "\n",
    "</div>"
   ]
  },
  {
   "cell_type": "code",
   "execution_count": 19,
   "id": "0eca25e6",
   "metadata": {},
   "outputs": [
    {
     "data": {
      "text/html": [
       "<div>\n",
       "<style scoped>\n",
       "    .dataframe tbody tr th:only-of-type {\n",
       "        vertical-align: middle;\n",
       "    }\n",
       "\n",
       "    .dataframe tbody tr th {\n",
       "        vertical-align: top;\n",
       "    }\n",
       "\n",
       "    .dataframe thead th {\n",
       "        text-align: right;\n",
       "    }\n",
       "</style>\n",
       "<table border=\"1\" class=\"dataframe\">\n",
       "  <thead>\n",
       "    <tr style=\"text-align: right;\">\n",
       "      <th></th>\n",
       "      <th>wavelength</th>\n",
       "      <th>wave_vac</th>\n",
       "    </tr>\n",
       "  </thead>\n",
       "  <tbody>\n",
       "    <tr>\n",
       "      <th>S3_9530A</th>\n",
       "      <td>9530.400</td>\n",
       "      <td>9533.200</td>\n",
       "    </tr>\n",
       "    <tr>\n",
       "      <th>He1_10832A</th>\n",
       "      <td>10832.057</td>\n",
       "      <td>10832.057</td>\n",
       "    </tr>\n",
       "  </tbody>\n",
       "</table>\n",
       "</div>"
      ],
      "text/plain": [
       "            wavelength   wave_vac\n",
       "S3_9530A      9530.400   9533.200\n",
       "He1_10832A   10832.057  10832.057"
      ]
     },
     "execution_count": 19,
     "metadata": {},
     "output_type": "execute_result"
    }
   ],
   "source": [
    "lines_database.loc[['S3_9530A', 'He1_10832A'], ['wavelength', 'wave_vac']]"
   ]
  },
  {
   "cell_type": "markdown",
   "id": "f01cf355",
   "metadata": {},
   "source": [
    "### 3) Group suffix"
   ]
  },
  {
   "cell_type": "markdown",
   "id": "8714f3a1",
   "metadata": {},
   "source": [
    "The final core component informs $\\mathrm{LiMe}$ if the line consists in multiple transitions. This **component must be at the end** of the label. The figure below shows an example of each group for the $[SII]6716,6731Å$ doublet from different instruments:"
   ]
  },
  {
   "attachments": {},
   "cell_type": "markdown",
   "id": "865f0c4d-a55a-4ee4-a7ca-854c9ccf9d98",
   "metadata": {},
   "source": [
    "<img src=\"../0_resources/images/lines_by_components.png\" width=\"1060\" />\n"
   ]
  },
  {
   "cell_type": "markdown",
   "id": "7f100ca1-1ac4-4f10-9151-df2730cfe232",
   "metadata": {},
   "source": [
    "* **Single lines**: An emission or absorption line which can be modeled by a single profile. By default, all lines without a group suffix are considered single transitions.\n",
    "\n",
    "* **Blended lines**: A blended line consists of several transitions and/or kinematic components. If the user adds the **_b** suffix and **includes the components** in the fitting configuration (joined by \"+\"), a multi-component fitting will be performed. In the X-SHOTTER observation above, the blended transitions description would look like:\n",
    "\n",
    "     ```S2_6716A_b = \"S2_6716A+S2_6731A+S2_6716A_k-1+S2_6731A_k-1+S2_6716A_k-2+S2_6731A_k-2\"```\n",
    "  \n",
    "    In a successful fitting, the individual transition measurements are stored in the output measurements table, and the components string is stored in the `group_label` column.\n",
    "\n",
    "* **Merged lines**: A merged line also consists of multiple transitions. However, $\\mathrm{LiMe}$ will only fit **one component**. As in the case of blended lines, the user must provide the transitions involved in addition to the **\"_m\"** suffix. This classification is useful when the instrument resolving power is not high enough to distinguish components. For example, in the JWST observation above, the fitting configuration is:\n",
    "\n",
    "     `S2_6716A_m = \"S2_6716A+S2_6731A\"`\n",
    "  \n",
    "    The output measurements table will display the line as ```S2_6716A_m```, and the components string is stored in the `group_label` column."
   ]
  },
  {
   "cell_type": "markdown",
   "id": "084c740d",
   "metadata": {},
   "source": [
    "<div class=\"alert alert-success\" role=\"alert\">\n",
    "\n",
    "**Remember:** For a line to be considered blended (**S2_6716A_b**) or merged (**S2_6716A_m**), its components must be included in its configuration (for example, **S2_6716A_m = \"S2_6716A+S2_6731A\"**). The [fitting introduction](../1_introduction/5_fitting_configuration.ipynb) describes these steps.\n",
    "\n",
    "</div>\n"
   ]
  },
  {
   "cell_type": "markdown",
   "id": "01a11d71",
   "metadata": {},
   "source": [
    "## Optional suffixes "
   ]
  },
  {
   "cell_type": "markdown",
   "id": "c1f65d77",
   "metadata": {},
   "source": [
    "Unlike the core components, the optional suffixes have default values. This means that the user **can exclude them** from the label, and their **order is unfixed**:"
   ]
  },
  {
   "cell_type": "markdown",
   "id": "4cb03e5c-7acc-4cb8-b1d1-e9c9f5c8fbd7",
   "metadata": {},
   "source": [
    "<img src='../0_resources/images/label_all_components.png' width=\"1200\" />"
   ]
  },
  {
   "cell_type": "markdown",
   "id": "e4b30e96",
   "metadata": {},
   "source": [
    "If the user includes any of these components, they **must start** with a certain letter followed by a dash **\"-\"**."
   ]
  },
  {
   "cell_type": "markdown",
   "id": "5ccfac90-a021-4227-b393-aa4d2a1d3839",
   "metadata": {},
   "source": [
    "### Kinematic suffix (k)"
   ]
  },
  {
   "cell_type": "markdown",
   "id": "19803d2b",
   "metadata": {},
   "source": [
    "This first item is the letter \"k\", while the second one is the component cardinal number. In single and merged lines, $\\mathrm{LiMe}$ assumes a unique kinematic component \"0\". Therefore, in blended lines, the user should name the second component k-1, the third k-2, and so on."
   ]
  },
  {
   "cell_type": "markdown",
   "id": "4c4c56dd-aab2-4216-98cc-8bd819e6e538",
   "metadata": {},
   "source": [
    "<div class=\"alert alert-success\" role=\"alert\">\n",
    "\n",
    "**Please remember:** It's recommended to define the kinematic components from lower to higher dispersion velocity. However, users need to specify the boundary conditions in the fitting configuration to ensure this pattern: \n",
    "\n",
    "```\n",
    "O3_5007A_b = \"O3_5007A+O3_5007A_k-1+O3_5007A_k-2\"\n",
    "O3_5007A_k-1_sigma = \"expr:>2.0*O3_5007A_sigma\"\n",
    "O3_5007A_k-2_sigma = \"expr:>2.0*O3_5007A_k-1_sigma\"\n",
    "```\n",
    "where **O3_5007A** is the narrower component.\n",
    "\n",
    "</div>\n",
    "\n"
   ]
  },
  {
   "cell_type": "markdown",
   "id": "47a47325-c33d-4d3f-bc44-4d6d47c8a64e",
   "metadata": {},
   "source": [
    "### Profile suffix (k)"
   ]
  },
  {
   "cell_type": "markdown",
   "id": "208b0366",
   "metadata": {},
   "source": [
    "The first item is the letter \"p\" followed by a character to specify the profile. At present, LiMe fits Gaussian, Lorentz, pseudo-Voigt, and exponential profiles:\n",
    "\n",
    "* **p-g**: Gaussian (Default)\n",
    "* **p-l**: Lorentzian\n",
    "* **p-e**: Exponential\n",
    "* **p-pv**: Pseudo-Voigt"
   ]
  },
  {
   "cell_type": "markdown",
   "id": "ad43be72",
   "metadata": {},
   "source": [
    "<div class=\"alert alert-success\" role=\"alert\">\n",
    "\n",
    "**Please remember:** By default, $\\mathrm{LiMe}$ assumes that all lines have a Gaussian profile. However, in addition to the profile suffix, you can also use the [fitting configuration](../1_introduction/5_fitting_configuration.ipynb) or [adjust the lines database](../1_introduction/4_lines_database.ipynb) to change the default profile for all or specific lines.\n",
    "\n",
    "</div>"
   ]
  },
  {
   "cell_type": "markdown",
   "id": "14a757e2",
   "metadata": {},
   "source": [
    "### Shape suffix (s)\n",
    "\n",
    "The first item is the letter \"s\" followed by 'emi' or abs for an emission or absorption line respectively:\n",
    "\n",
    "* **p-emi** Emission (Default)\n",
    "* **p-abs** or s-abs: Absorption"
   ]
  },
  {
   "cell_type": "markdown",
   "id": "a4764ebc",
   "metadata": {},
   "source": [
    "<div class=\"alert alert-success\" role=\"alert\">\n",
    "\n",
    "**Please remember:** By default, $\\mathrm{LiMe}$ assumes that all lines have an emission profile. However, in addition to the shape suffix, you can also use the [fitting configuration](../1_introduction/5_fitting_configuration.ipynb) or [adjust the lines database](../1_introduction/4_lines_database.ipynb) to change the default shape for all or specific lines.\n",
    "\n",
    "</div>\n"
   ]
  },
  {
   "cell_type": "markdown",
   "id": "7918fe76-3bcb-4360-9bf0-3d03b5ca7edb",
   "metadata": {},
   "source": [
    "### Type suffix (t)"
   ]
  },
  {
   "cell_type": "markdown",
   "id": "e3207325",
   "metadata": {},
   "source": [
    "This component provides information regarding the line type in order to construct `latexlabel`. The first item is the letter 't' followed by the following abbreviations:\n",
    "\n",
    "* t-rec: Recombination line\n",
    "* t-col: Collisionally excited line\n",
    "* t-sem: Semi-forbidden transition line\n",
    "* t-mol: Molecular line\n",
    "* t-PAH: Polycyclic aromatic hydrocarbons\n"
   ]
  },
  {
   "cell_type": "markdown",
   "id": "e86887d7-d3dd-486c-9cc5-deaa27902411",
   "metadata": {},
   "source": [
    "## Takeaways"
   ]
  },
  {
   "cell_type": "markdown",
   "id": "89f2d734-0610-4790-b88d-75ebbe12b949",
   "metadata": {},
   "source": [
    "* $\\mathrm{LiMe}$ uses a somewhat strict, but flexible, line notation that must be used for a succesful fitting. At a minimum, the label must include the transtion particle and wavelength. Additional components can be added to constrain the line fitting.\n",
    "\n",
    "* To perform a multi-profile fitting of a line, use the blended suffix **(_b)** together with the list of transition components. For example `S2_6716A_b = \"S2_6716A+S2_6731A\"`.\n",
    "\n",
    "* To fit a single profile that represents multiple transitions, use the merged suffix **(_m)**. This allows you to track all transitions in the output measurements. For example, For example `S2_6716A_m = \"S2_6716A+S2_6731A\"`.\n",
    "\n",
    "* The optional kinematic component **(_k-)** is used to describe multiple kinematic components. Remember to define boundary conditions in the fitting configuration to ensure the correct ordering of components.\n",
    "\n",
    "* The optional shape component **(_s-emi)** or **(_s-abs)** declares an emission or absorption line respectively. The default shape is **emission**, but you [can also change it with the fitting configuration](../1_introduction/5_fitting_configuration.ipynb).\n",
    "\n",
    "* The optional profile component **(_p-)** specifies the profile type. For example, **(_p-l)**  is Lorentzian. The default profile is **Gaussian**, but you [can also change it with the fitting configuration](../1_introduction/5_fitting_configuration.ipynb).\n",
    "\n",
    "* The optional transition component **(\"_t-\")** specifies the transition type (e.g., recombination, forbidden, molecular). This impacts the automatic `latexlabel` notation in the output.\n"
   ]
  }
 ],
 "metadata": {
  "kernelspec": {
   "display_name": "lime2",
   "language": "python",
   "name": "python3"
  },
  "language_info": {
   "codemirror_mode": {
    "name": "ipython",
    "version": 3
   },
   "file_extension": ".py",
   "mimetype": "text/x-python",
   "name": "python",
   "nbconvert_exporter": "python",
   "pygments_lexer": "ipython3",
   "version": "3.12.11"
  }
 },
 "nbformat": 4,
 "nbformat_minor": 5
}
