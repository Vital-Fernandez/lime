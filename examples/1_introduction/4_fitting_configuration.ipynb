{
 "cells": [
  {
   "cell_type": "markdown",
   "id": "9a7a8280-828a-40a3-9d97-43e157b362ac",
   "metadata": {},
   "source": [
    "# Profile fitting"
   ]
  },
  {
   "cell_type": "markdown",
   "id": "a503d523-e8cc-4631-906f-cc6ddb3c92c4",
   "metadata": {},
   "source": [
    "One of the main purposes of $\\mathrm{LiMe}$ is to fit profiles to the observed lines. This is done using the $\\tt{.fit}$ functions. For example, let's use a [spectrum from the resources folder](https://github.com/Vital-Fernandez/lime/tree/master/examples/0_resources) to fit $H\\beta$:\n"
   ]
  },
  {
   "cell_type": "code",
   "execution_count": null,
   "id": "dff2c184-c760-47b1-9f7f-92930ed680b0",
   "metadata": {},
   "outputs": [],
   "source": [
    "from pathlib import Path\n",
    "import lime\n",
    "\n",
    "# Specify the data location the observations\n",
    "data_folder = Path('../0_resources')\n",
    "sloan_SHOC579 = data_folder/'spectra'/'sdss_dr18_0358-51818-0504.fits'\n",
    "bands_df_file = data_folder/'bands'/'SHOC579_bands.txt'\n",
    "\n",
    "# Create the observation object\n",
    "spec = lime.Spectrum.from_file(sloan_SHOC579, instrument='sdss', redshift=0.0475)\n",
    "\n",
    "# Fit a line from the default label list\n",
    "spec.fit.bands('H1_4861A')"
   ]
  },
  {
   "cell_type": "markdown",
   "id": "e0003f1b",
   "metadata": {},
   "source": [
    "And to visualize the fitted profile you can run:"
   ]
  },
  {
   "cell_type": "code",
   "execution_count": null,
   "id": "7756627f",
   "metadata": {},
   "outputs": [],
   "source": [
    "# Plot the line region\n",
    "spec.plot.bands()"
   ]
  },
  {
   "cell_type": "markdown",
   "id": "29c0a711-f8cc-45b8-991e-476bafc942b2",
   "metadata": {},
   "source": [
    "The [measurements](../4_references/outputs1_measurements.rst) are stored into the ``Spectrum.frame`` attributes as a pandas dataframe:"
   ]
  },
  {
   "cell_type": "code",
   "execution_count": null,
   "id": "ca8d93f0-f8c4-4d90-a49c-426dc27f3daa",
   "metadata": {},
   "outputs": [],
   "source": [
    "spec.frame[['profile_flux', 'profile_flux_err', 'amp', 'center', 'sigma']]"
   ]
  },
  {
   "cell_type": "markdown",
   "id": "4dd07dcc",
   "metadata": {},
   "source": [
    "## Profile and shape:"
   ]
  },
  {
   "cell_type": "markdown",
   "id": "b36ebc01",
   "metadata": {},
   "source": [
    "You can use the [$\\mathrm{LiMe}$ notation](2_line_labels.ipynb#shape-suffix-(s)) to adjust the profile and/or shape of your profile. For example:"
   ]
  },
  {
   "cell_type": "code",
   "execution_count": null,
   "id": "6504adc2",
   "metadata": {},
   "outputs": [],
   "source": [
    "# Lorentz profile fitting\n",
    "spec.fit.bands('H1_4861A_p-l')\n",
    "spec.plot.bands()"
   ]
  },
  {
   "cell_type": "markdown",
   "id": "567947c5",
   "metadata": {},
   "source": [
    "Or you can use the `shape` and `profile` arguments to set these conditions:"
   ]
  },
  {
   "cell_type": "code",
   "execution_count": null,
   "id": "e51e22ef",
   "metadata": {},
   "outputs": [],
   "source": [
    "# Lorentz profile fitting\n",
    "spec.fit.bands('O3_4959A', profile='l')\n",
    "spec.plot.bands()"
   ]
  },
  {
   "cell_type": "markdown",
   "id": "bdf8d08b",
   "metadata": {},
   "source": [
    "<div class=\"alert alert-info\">\n",
    "\n",
    "**Please note:** The default shape and profile values in $\\mathrm{LiMe}$ measurements are emission (**emi**) and Gaussian (**g**). The priority for deciding the final value of these parameters is: **label suffix** > **configuration file** > **lines table** > `profile/shape` **arguments in the *.fit* functions** > **default values**. To change the default values, check the [lines database configuration](../2_guides/0_lines_database.ipynb). \n",
    "\n",
    "\n",
    "</div>"
   ]
  },
  {
   "cell_type": "markdown",
   "id": "990b3eb7-cb3a-4c47-9e8d-46a6178860ea",
   "metadata": {},
   "source": [
    "## Multi-profile fitting"
   ]
  },
  {
   "cell_type": "markdown",
   "id": "879486e7-7f0e-4385-96ff-26744c53842b",
   "metadata": {},
   "source": [
    "By default $\\mathrm{LiMe}$ assumes a single component, however, in many cases this is not enough:"
   ]
  },
  {
   "cell_type": "code",
   "execution_count": null,
   "id": "a250d172-f48f-4d42-b2d8-9468fb858237",
   "metadata": {},
   "outputs": [],
   "source": [
    "# Fit a line from the default label list\n",
    "spec.fit.bands('H1_6563A')\n",
    "spec.plot.bands()"
   ]
  },
  {
   "cell_type": "markdown",
   "id": "e6b8f099-0984-425c-a9a5-05b33288f7b1",
   "metadata": {},
   "source": [
    "In thi case we, need to fit multiple profiles simultaneously. Let's start by making a wider band for $H\\alpha$ and $[NII]6548,6583\\mathring{A}$ doublet"
   ]
  },
  {
   "cell_type": "code",
   "execution_count": null,
   "id": "5cdd7f88-c1ab-47e2-a5b8-d7d8fde9d16a",
   "metadata": {},
   "outputs": [],
   "source": [
    "band_df = spec.retrieve.lines_frame(line_list=['H1_6563A'], band_vsigma=350)\n",
    "band_df"
   ]
  },
  {
   "cell_type": "markdown",
   "id": "671d586d",
   "metadata": {},
   "source": [
    "If we repeat the fitting:"
   ]
  },
  {
   "cell_type": "code",
   "execution_count": null,
   "id": "fe35ef55-749e-4845-946d-6ba8c65542b4",
   "metadata": {},
   "outputs": [],
   "source": [
    "spec.fit.bands('H1_6563A', bands=band_df)\n",
    "spec.plot.bands()"
   ]
  },
  {
   "cell_type": "markdown",
   "id": "f1fe5e69-20f7-46e2-ae57-5fc378cfbce1",
   "metadata": {},
   "source": [
    "Now the central band covers the three transitions. However, only one line was fitted. \n",
    "\n",
    "<div class=\"alert alert-success\">\n",
    "\n",
    "To fit the three components, we need to use the blended **(_b)** suffix and specify the three components in the fitting configuration\n",
    "\n",
    "</div>\n",
    "\n"
   ]
  },
  {
   "cell_type": "code",
   "execution_count": null,
   "id": "6785ce3c-b0b0-4b66-9fe3-67e39995150a",
   "metadata": {},
   "outputs": [],
   "source": [
    "fit_cfg = {'H1_6563A_b': 'H1_6563A+N2_6583A+N2_6548A'}\n",
    "spec.fit.bands('H1_6563A_b', band_df, fit_cfg)\n",
    "spec.plot.bands()"
   ]
  },
  {
   "cell_type": "markdown",
   "id": "d0a319da-f667-4b7b-b93c-9150a60d44ab",
   "metadata": {},
   "source": [
    "This is a better result, now in the measurements frame we have:"
   ]
  },
  {
   "cell_type": "code",
   "execution_count": null,
   "id": "a220e798",
   "metadata": {},
   "outputs": [],
   "source": [
    "spec.frame.loc[['H1_6563A', 'N2_6583A', 'N2_6548A'], ['intg_flux', 'profile_flux']]"
   ]
  },
  {
   "cell_type": "markdown",
   "id": "737e8a7c",
   "metadata": {},
   "source": [
    "<div class=\"alert alert-warning\">\n",
    "\n",
    "**Please remember:** In de-blended lines, all components share the same integrated flux and uncertainty (``intg_flux`` and ``intg_flux_err``), which are only affected by the pixel values within the central line band. The profile fluxes (``profile_flux`` and ``profile_flux_err``) depend on the fitted profiles of each component.\n",
    "\n",
    "\n",
    "</div>"
   ]
  },
  {
   "cell_type": "markdown",
   "id": "f7bb14c3-5bdb-46f2-9d01-feb355e74267",
   "metadata": {},
   "source": [
    "## Constrain the profile parameters"
   ]
  },
  {
   "cell_type": "markdown",
   "id": "f8effba8-5aaa-4046-b373-ff0a48361c6f",
   "metadata": {},
   "source": [
    "In order to adjust the fittings, you can constrain the parameters of the profiles considered. For example, for a Gaussian profile, if the mathematical expression is:\n",
    "\n",
    "$\\mathrm{F_{\\lambda}=\\sum_{i}A_{i}e^{-\\left(\\frac{\\lambda-\\mu_{i}}{2\\sigma_{i}}\\right)^{2}} + m{\\lambda} + c}$\n",
    "\n",
    "You can introduce in the $\\mathrm{LiMe}$ configuration files the line label followed by the profile name. For example, in the previous fitting:\n",
    " * $\\tt{H1\\_6563A\\_amp}$: the line amplitude, i.e., the height of the Gaussian profile above the continuum level $(A_i)$. \n",
    " * $\\tt{H1\\_6563A\\_center}$: the observed Gaussian centroid in the spectrum wavelength units $(\\mu_i)$.\n",
    " * $\\tt{H1\\_6563A\\_sigma}$: the Gaussian profile sigma width in the spectrum wavelength units $(\\sigma_i)$.\n",
    " * $\\tt{H1\\_6563A\\_cont\\_slope}$: the local continuum gradient. In blended lines, there is only one continuum slope labeled after the first component $(m)$.\n",
    " * $\\tt{H1\\_6563A\\_cont\\_intercept}$: the linear flux at the blue edge of the central band. In blended lines, there is still only one continuum intercept labeled after the first component $(c)$.\n"
   ]
  },
  {
   "cell_type": "markdown",
   "id": "5ed6c072-4bea-43f7-a31a-ad901aa2c61c",
   "metadata": {},
   "source": [
    "<div class=\"alert alert-success\">\n",
    "\n",
    "**Please remember:** Any value for the ``_center`` wavelength must be given in the rest frame; $\\mathrm{LiMe}$ will apply the redshift correction. Similarly, the ``_amp`` values must use the same units as the input flux, and $\\mathrm{LiMe}$ will apply the normalization.\n",
    "\n",
    "</div>"
   ]
  },
  {
   "cell_type": "markdown",
   "id": "f188d5dd-99c5-4a83-9d00-3b4705c576c7",
   "metadata": {},
   "source": [
    "LiMe transforms each of these entries into [an LmFIT parameter](https://lmfit.github.io/lmfit-py/parameters.html), which can have the following arguments:\n",
    "\n",
    "* ``value``: Initial value of the parameter. $\\mathrm{LiMe}$ provides an initial guess for the parameters from the [integrated measurements](https://lime-stable.readthedocs.io/en/latest/documentation/measurements.html#integrated-properties).\n",
    "* ``vary``: Whether the parameter is free during fitting (default is True). If set to *False*, the initial ``value`` will remain unchanged.\n",
    "* ``min``: Lower bound for the parameter value. The default value is -numpy.inf (no lower bound).\n",
    "* ``max``: Upper bound for the parameter value. The default value is numpy.inf (no upper bound).\n",
    "* ``expr``: Mathematical expression to constrain the value during fitting. The default value is None.\n",
    "\n",
    "Let's try some of these parameter constrains:"
   ]
  },
  {
   "cell_type": "code",
   "execution_count": null,
   "id": "ac112fa8-bfe5-4b21-9a75-73713bdf1cf5",
   "metadata": {},
   "outputs": [],
   "source": [
    "line = 'H1_6563A_b'\n",
    "fit_conf = {'H1_6563A_b': 'H1_6563A+H1_6563A_k-1+N2_6584A+N2_6548A',        # Line components of the line\n",
    "            'N2_6548A_amp': {'expr': 'N2_6584A_amp/2.94'},                  # [NII] amplitude constrained by the emissivity ratio\n",
    "            'N2_6548A_kinem': 'N2_6584A',                                   # Tie the kinematics of the [NII] doublet\n",
    "            'H1_6563A_k-1_center': {'value':6562, 'min': 6561, 'max':6563}, # Range for the wide Hα value\n",
    "            'H1_6563A_k-1_sigma': {'expr':'>1.0*H1_6563A_sigma'}}           # Second Hα sigma must be higher than first sigma\n",
    "\n",
    "# Second attempt including the fit configuration\n",
    "spec.fit.bands(line, band_df, fit_conf)\n",
    "spec.plot.bands()"
   ]
  },
  {
   "cell_type": "markdown",
   "id": "d318361d",
   "metadata": {},
   "source": [
    "In this fitting, we did several improvements:\n",
    "\n",
    "* The amplitude ratio of the $[NII]6548,6584\\mathring{A}$ is equal to the theoretical relation (2.94). This was done by using the ``'expr': 'N2_6584A_amp/2.94'`` to force the ``N2_6548A_amp`` to adhere to this relation."
   ]
  },
  {
   "cell_type": "code",
   "execution_count": null,
   "id": "6d43bd30-3128-4652-91cb-25b3c1009697",
   "metadata": {},
   "outputs": [],
   "source": [
    "spec.frame.loc['N2_6584A', 'amp']/spec.frame.loc['N2_6548A', 'amp']"
   ]
  },
  {
   "cell_type": "markdown",
   "id": "16f01365-763b-4b44-afea-5ae1fd782cb4",
   "metadata": {},
   "source": [
    " * The nitrogen doublet has the same kinematics by using the ``N2_6548A_kinem': 'N2_6584A'``"
   ]
  },
  {
   "cell_type": "code",
   "execution_count": null,
   "id": "1f101225-c6cb-40da-b1bf-7a87a6ec8fe4",
   "metadata": {},
   "outputs": [],
   "source": [
    "spec.frame.loc[['N2_6584A', 'N2_6548A'], ['v_r', 'sigma_vel']]"
   ]
  },
  {
   "cell_type": "markdown",
   "id": "30657f3c-1066-44b7-8987-1d4132bcc253",
   "metadata": {},
   "source": [
    " * We added a kinematic component to $H\\alpha$ (``H1_6563A_k-1``). The sigma of this component is wider thanks to the ``'H1_6563A_k-1_sigma': {'expr':'>1.0*H1_6563A_sigma'}`` term"
   ]
  },
  {
   "cell_type": "code",
   "execution_count": null,
   "id": "037ed140-ddb4-4d16-a451-6f16856fc494",
   "metadata": {},
   "outputs": [],
   "source": [
    "spec.frame.loc[['H1_6563A', 'H1_6563A_k-1'], 'sigma']"
   ]
  },
  {
   "cell_type": "markdown",
   "id": "a4c326a8-8d04-428a-9e52-3b0ff0904253",
   "metadata": {},
   "source": [
    " * The sigma of the wide component has a user innitial value which is constrained to 1 angstrom via the ``'H1_6563A_k-1_center': {'value':6562, 'min': 6561, 'max':6563}`` term."
   ]
  },
  {
   "cell_type": "markdown",
   "id": "af4a217a-4399-458e-9067-c43f4362bf65",
   "metadata": {},
   "source": [
    "You are invited to try different techniques "
   ]
  },
  {
   "cell_type": "markdown",
   "id": "b38fcfe6-64a3-444e-970d-1e4dcd7ffb81",
   "metadata": {},
   "source": [
    "## Failed fittings"
   ]
  },
  {
   "cell_type": "markdown",
   "id": "023d03c9-414e-478e-b703-5b7971531352",
   "metadata": {},
   "source": [
    "Depending on the complexity of the fitting, the minimizer can fail to converge. In this case the profile lines will be displayed in red:"
   ]
  },
  {
   "cell_type": "code",
   "execution_count": null,
   "id": "5f7e0ad2-e7a2-4eea-a217-32680ece53a9",
   "metadata": {},
   "outputs": [],
   "source": [
    "line = 'H1_6563A_b'\n",
    "fit_conf = {'H1_6563A_b': 'H1_6563A+H1_6563A_k-1+N2_6584A+N2_6548A'} \n",
    "spec.fit.bands(line, band_df, fit_conf)\n",
    "spec.plot.bands()"
   ]
  },
  {
   "cell_type": "markdown",
   "id": "8985e92d-f45e-4476-8063-b85c7c51432b",
   "metadata": {},
   "source": [
    "And the uncertainty of the profile components will be ``np.nan``:"
   ]
  },
  {
   "cell_type": "code",
   "execution_count": null,
   "id": "72a35d24-64ac-4dac-a365-7454a4103d24",
   "metadata": {},
   "outputs": [],
   "source": [
    "spec.frame.loc[['H1_6563A', 'H1_6563A_k-1'], ['profile_flux', 'profile_flux_err', 'amp', 'amp_err', 'center', 'center_err', 'sigma', 'sigma_err']]"
   ]
  },
  {
   "cell_type": "markdown",
   "id": "415eea7e-5336-4b5d-8c50-f92261695afc",
   "metadata": {},
   "source": [
    "In order to fix a failed fitting, you can add more constrains on the parameters. In order to get a better insight on the causes behind the failed fitting you can access the [LmFIT report](https://lmfit.github.io/lmfit-py/model.html#lmfit.model.ModelResult.fit_report) via the ``.fit.report()``:"
   ]
  },
  {
   "cell_type": "code",
   "execution_count": null,
   "id": "9751811c-482c-4168-9ec0-aedd42d9661e",
   "metadata": {},
   "outputs": [],
   "source": [
    "spec.fit.report()"
   ]
  },
  {
   "cell_type": "markdown",
   "id": "e10213fb-8f57-4786-96ce-37614f6ae675",
   "metadata": {},
   "source": [
    "We can see in this report that there is a big change between the initial center for the Halpha components:\n",
    "\n",
    "```\n",
    "H1_6563A_center:  16599.3998 (init = 6874.448)\n",
    "H1_6563A_k-1_center: -2850.16426 (init = 6874.448)\n",
    "```"
   ]
  },
  {
   "cell_type": "markdown",
   "id": "7ee6836d-6591-4ed3-8c19-94039ced5b56",
   "metadata": {},
   "source": [
    "This means that you should constrain these parameters more."
   ]
  },
  {
   "cell_type": "markdown",
   "id": "10c7ba8a-1afe-4cb9-86b9-2a57d17b8fdb",
   "metadata": {},
   "source": [
    "<div class=\"alert alert-info\">\n",
    "\n",
    "**Please remember:** Once we start to fit profiles with more than 10 dimensions (four Gaussian components) tranditional minimizers are very sensitive to the boundary conditions and cannot explore the parameter space efficiently. Future $\\mathrm{LiMe}$ upgrades will explore more advance samplers to automatically decide the number of components and estimate the parameter values distributions.\n",
    "</div>"
   ]
  },
  {
   "cell_type": "markdown",
   "id": "3f71da7d-393a-4365-a511-2ef9f27ba13b",
   "metadata": {},
   "source": [
    "## Read fitting configuration from a text file"
   ]
  },
  {
   "cell_type": "markdown",
   "id": "d7cbce6e-602c-49d4-a966-37ec3bae5465",
   "metadata": {},
   "source": [
    "In most cases, you will be interested in fitting multiple lines from multiple spectra. In order to simplify the configuration entries typing, it is recomended that you put your configuration into a text file with a [.toml configuration format](https://toml.io/en/) and use that as an input for your ``.fit`` functions.\n",
    "\n",
    "For example, lets save the previous configuration to a text file:"
   ]
  },
  {
   "cell_type": "code",
   "execution_count": null,
   "id": "7e53efb4-4c58-42dd-aea0-c975788246bb",
   "metadata": {},
   "outputs": [],
   "source": [
    "fit_cfg_str = \"\"\"[default_line_fitting]\n",
    "H1_6563A_b = 'H1_6563A+H1_6563A_k-1+N2_6584A+N2_6548A'\n",
    "N2_6548A_amp = 'expr:N2_6584A_amp/2.94'\n",
    "N2_6548A_kinem = 'N2_6584A'\n",
    "H1_6563A_k-1_center = 'value:6562,min:6561,max:6563'\n",
    "H1_6563A_k-1_sigma = 'expr:>1.0*H1_6563A_sigma'\n",
    "\"\"\"\n",
    "\n",
    "# Save to file while keeping line breaks\n",
    "with open(\"../0_resources/Halpha_cfg.toml\", \"w\", encoding=\"utf-8\") as file:\n",
    "    file.write(fit_cfg_str)"
   ]
  },
  {
   "cell_type": "markdown",
   "id": "bdf8d2f3-1f5b-4f4f-bcbe-021910a2e183",
   "metadata": {},
   "source": [
    "This produces a '.toml' file which can be read using $\\tt{lime.load\\_cfg}$ function:"
   ]
  },
  {
   "cell_type": "code",
   "execution_count": null,
   "id": "64d8d987-f340-4431-be13-e9a43a4e7ee5",
   "metadata": {},
   "outputs": [],
   "source": [
    "fit_cfg = lime.load_cfg(\"../0_resources/Halpha_cfg.toml\")\n",
    "fit_cfg"
   ]
  },
  {
   "cell_type": "markdown",
   "id": "467804e9-a0c6-4581-8f3c-01a5ad54921b",
   "metadata": {},
   "source": [
    "When the $\\tt{lime.load\\_cfg}$ function finds a ``[section]`` with the ``_line_fitting`` it will format the entries to match $\\mathrm{LiMe}$ expected ittin format. This way you don't need to type the **\"{\"** and **\"}\"** characters (but you must avoid white spaces and put all the item values between **' '**). \n",
    "\n",
    "This dictionary can be introduced to the fitting function directly:"
   ]
  },
  {
   "cell_type": "code",
   "execution_count": null,
   "id": "c2cf9a22-fc7e-481b-baed-417eb0c97c94",
   "metadata": {},
   "outputs": [],
   "source": [
    "line = 'H1_6563A_b'\n",
    "spec.fit.bands(line, band_df, fit_cfg)\n",
    "spec.plot.bands()"
   ]
  },
  {
   "cell_type": "markdown",
   "id": "531ce85a-71f9-4b94-82ca-0ac71fd721c1",
   "metadata": {},
   "source": [
    "Or we can directly input the text file address:"
   ]
  },
  {
   "cell_type": "code",
   "execution_count": null,
   "id": "5ad2742e-2fcb-4ddc-993d-bbdb37a4f9a9",
   "metadata": {},
   "outputs": [],
   "source": [
    "line = 'H1_6563A_b'\n",
    "spec.fit.bands(line, band_df, \"Halpha_cfg.toml\")\n",
    "spec.plot.bands()"
   ]
  },
  {
   "cell_type": "markdown",
   "id": "4470e218-9328-4004-ab49-3e2d5596c830",
   "metadata": {},
   "source": [
    "## Save the results"
   ]
  },
  {
   "cell_type": "markdown",
   "id": "eee88ea9-7afa-4a52-a568-111b81054e14",
   "metadata": {},
   "source": [
    "$\\mathrm{LiMe}$ can save the results into different formats using the $\\tt{lime.Spectrum.save\\_frame}$ function:"
   ]
  },
  {
   "cell_type": "code",
   "execution_count": null,
   "id": "bfe10465-c7c4-4ea0-b24a-263d1e46e9d7",
   "metadata": {},
   "outputs": [],
   "source": [
    "# Save to a text file\n",
    "spec.save_frame('../0_resources/example1_linelog.txt')"
   ]
  },
  {
   "cell_type": "markdown",
   "id": "bdbe4287-7f2b-4ca7-b398-c00ad992c05b",
   "metadata": {},
   "source": [
    "Additional file formats allow the user to save the current data to a specific page:"
   ]
  },
  {
   "cell_type": "code",
   "execution_count": null,
   "id": "228f7570-d4de-4082-9b24-b85ef831eaed",
   "metadata": {},
   "outputs": [],
   "source": [
    "spec.save_frame('../0_resources/example1_linelog.fits', page='SHOC579')\n",
    "spec.save_frame('../0_resources/example1_linelog.xlsx', page='SHOC579')"
   ]
  },
  {
   "cell_type": "markdown",
   "id": "6079e407-bf7b-4e2b-89d5-e734ee1d4928",
   "metadata": {},
   "source": [
    "Finally, if you have latex and pylatex installed on your system you can also save the results as a pdf file:"
   ]
  },
  {
   "cell_type": "code",
   "execution_count": null,
   "id": "7a287c3a-d4aa-4307-9ce3-9fccdf70081b",
   "metadata": {},
   "outputs": [],
   "source": [
    "spec.save_frame('../0_resources/example1_linelog.pdf', param_list=['eqw', 'profile_flux', 'profile_flux_err'])"
   ]
  },
  {
   "cell_type": "markdown",
   "id": "fbcfe8d7-1652-47f3-9dfe-a5c5d7811931",
   "metadata": {},
   "source": [
    "The argument ``param_list`` constrains the output measurements to the input list."
   ]
  },
  {
   "cell_type": "markdown",
   "id": "efca3b7a-c594-4f5b-8efc-2d4d9fe79ad4",
   "metadata": {},
   "source": [
    "## Takeaways"
   ]
  },
  {
   "cell_type": "markdown",
   "id": "d6aa3820-6cc4-42f4-bf59-6f9453c4ceb3",
   "metadata": {},
   "source": [
    "* By default $\\mathrm{LiMe}$ will fit a Gaussian profile to a line.\n",
    "* To fit multiple components to a line you need to add the blended suffix to the line label (for example ``H1_6563A_b``) and its components into the fitting configuration: (for example ``H1_6563A_b='H1_6563A+N2_6585A+N2_6548A'``)\n",
    "* You can constrain the components profile parameter using the value,min,max,expr,vary attributes to the configuration (for example ``'expr:>1.0*H1_6563A_sigma'``)\n",
    "* In very complex profiles (4 components or more) the minimizer is very sensitive to the input boundary conditions a lot of tinkering might be necessary in the current algorithm version to succesfully fit these profiles.\n",
    "* It is recomended you save your profile settings in a .toml file and input them on the fitting functions. As long as the corresponding ``[section]`` has the ``_line_fitting`` suffix the entries will be formated to the expected format. If no section name is introduced $\\mathrm{LiMe}$ will use the data from the ``[default_line_fitting]``"
   ]
  }
 ],
 "metadata": {
  "kernelspec": {
   "display_name": "lime2",
   "language": "python",
   "name": "python3"
  },
  "language_info": {
   "codemirror_mode": {
    "name": "ipython",
    "version": 3
   },
   "file_extension": ".py",
   "mimetype": "text/x-python",
   "name": "python",
   "nbconvert_exporter": "python",
   "pygments_lexer": "ipython3",
   "version": "3.12.11"
  }
 },
 "nbformat": 4,
 "nbformat_minor": 5
}
