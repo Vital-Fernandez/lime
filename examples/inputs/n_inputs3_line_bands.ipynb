{
 "cells": [
  {
   "cell_type": "markdown",
   "id": "b607c948",
   "metadata": {},
   "source": [
    "# Line Bands"
   ]
  },
  {
   "cell_type": "markdown",
   "id": "65fbfae0",
   "metadata": {},
   "source": [
    "The second input in a $LiMe$ measurement is the line bands. These are the intervales with the line location and two adjacent and featureless continua. This design was inspired by the the Lick indexes by [Worthey et al (1993) and references therein](https://ui.adsabs.harvard.edu/abs/1994ApJS...94..687W/abstract)."
   ]
  },
  {
   "cell_type": "markdown",
   "id": "e4d8e558",
   "metadata": {},
   "source": [
    "This tutorial can be found as a notebook in the Github [examples/inputs](https://github.com/Vital-Fernandez/lime/tree/master/examples/inputs) folder."
   ]
  },
  {
   "cell_type": "markdown",
   "id": "18b8181b-1d68-42b8-871d-535f470be2d8",
   "metadata": {},
   "source": [
    "## Design"
   ]
  },
  {
   "cell_type": "markdown",
   "id": "eda2769e-f8fe-488b-b920-079589f8a2b0",
   "metadata": {},
   "source": [
    "The image below shows an example of the bands for the $[NeIII]3869Å$ line:"
   ]
  },
  {
   "cell_type": "markdown",
   "id": "f359b11b-0d0c-4906-89df-ecf86c466e19",
   "metadata": {},
   "source": [
    "<img src=\"../images/bands_definition.png\" width=\"1200\" />"
   ]
  },
  {
   "cell_type": "markdown",
   "id": "42b3a688",
   "metadata": {},
   "source": [
    "A band consists in a 6-value array $(w_{1},.. w_{6})$ with the wavelength boundaries for the line location and two adjacent continua. For $LiMe$ measurements, it is **essential** that:\n",
    "    \n",
    "   * The wavelenght array is sorted from lower to higher values.\n",
    "   * The wavelength values are in the rest frame.\n",
    "   * The wavelength units are the same as those declared in the target ``lime.Spectrum`` or ``lime.Cube`` observations."
   ]
  },
  {
   "cell_type": "markdown",
   "id": "8af1b9bc",
   "metadata": {},
   "source": [
    "## Default bands database:"
   ]
  },
  {
   "cell_type": "markdown",
   "id": "b88438e0",
   "metadata": {},
   "source": [
    "$LiMe$ includes a database with common lines which can be observed in astronomical spectra. To access this database you can use the [``lime.line_bands``](https://lime-stable.readthedocs.io/en/latest/introduction/api.html#lime.line_bands) function:"
   ]
  },
  {
   "cell_type": "code",
   "execution_count": 1,
   "id": "81e95e25",
   "metadata": {},
   "outputs": [],
   "source": [
    "import numpy as np\n",
    "from astropy.io import fits\n",
    "from IPython.display import Image, display\n",
    "from pathlib import Path\n",
    "import lime\n",
    "\n",
    "bands_df = lime.line_bands()"
   ]
  },
  {
   "cell_type": "markdown",
   "id": "19bde2df",
   "metadata": {},
   "source": [
    "The default table wavelengths are in angstroms with the observed ``wavelength`` and band boundaries (``w1``, ``w2``,``w3``,``w4``,``w5``,``w6``) values in air for the $3000Å$ < $\\lambda$ < $30000Å$ interval"
   ]
  },
  {
   "cell_type": "markdown",
   "id": "79bf8004",
   "metadata": {},
   "source": [
    "However, you can constrain the output bands from the [``lime.line_bands``](https://lime-stable.readthedocs.io/en/latest/introduction/api.html#lime.line_bands) function using its attributes. For example, you can limit the output line bands by a wavelenght interval with ``wave_inter``, as well as a ``lines_list`` and ``particle_list``. Regarding the output values, you can specify the ``units_wave`` and whether to output the vacuum wavelengths via ``vacuum_conversion=True``. Finally, you can state the number of decimals on the line labels using the ``sig_fig`` attribute:"
   ]
  },
  {
   "cell_type": "code",
   "execution_count": 2,
   "id": "400c4c0a",
   "metadata": {},
   "outputs": [
    {
     "data": {
      "text/html": [
       "<div>\n",
       "<style scoped>\n",
       "    .dataframe tbody tr th:only-of-type {\n",
       "        vertical-align: middle;\n",
       "    }\n",
       "\n",
       "    .dataframe tbody tr th {\n",
       "        vertical-align: top;\n",
       "    }\n",
       "\n",
       "    .dataframe thead th {\n",
       "        text-align: right;\n",
       "    }\n",
       "</style>\n",
       "<table border=\"1\" class=\"dataframe\">\n",
       "  <thead>\n",
       "    <tr style=\"text-align: right;\">\n",
       "      <th></th>\n",
       "      <th>wavelength</th>\n",
       "      <th>wave_vac</th>\n",
       "      <th>w1</th>\n",
       "      <th>w2</th>\n",
       "      <th>w3</th>\n",
       "      <th>w4</th>\n",
       "      <th>w5</th>\n",
       "      <th>w6</th>\n",
       "      <th>latex_label</th>\n",
       "      <th>units_wave</th>\n",
       "      <th>particle</th>\n",
       "      <th>transition</th>\n",
       "      <th>rel_int</th>\n",
       "    </tr>\n",
       "  </thead>\n",
       "  <tbody>\n",
       "    <tr>\n",
       "      <th>He1_403nm</th>\n",
       "      <td>402.733452</td>\n",
       "      <td>402.73345</td>\n",
       "      <td>401.503486</td>\n",
       "      <td>402.244991</td>\n",
       "      <td>402.270129</td>\n",
       "      <td>403.335171</td>\n",
       "      <td>403.435647</td>\n",
       "      <td>404.138977</td>\n",
       "      <td>He1-$403nm$</td>\n",
       "      <td>Angstrom</td>\n",
       "      <td>He1</td>\n",
       "      <td>rec</td>\n",
       "      <td>0</td>\n",
       "    </tr>\n",
       "    <tr>\n",
       "      <th>S2_407nm</th>\n",
       "      <td>406.974903</td>\n",
       "      <td>406.97490</td>\n",
       "      <td>405.938106</td>\n",
       "      <td>406.587703</td>\n",
       "      <td>406.630488</td>\n",
       "      <td>407.441240</td>\n",
       "      <td>408.159187</td>\n",
       "      <td>408.819158</td>\n",
       "      <td>S2-$407nm$</td>\n",
       "      <td>Angstrom</td>\n",
       "      <td>S2</td>\n",
       "      <td>col</td>\n",
       "      <td>0</td>\n",
       "    </tr>\n",
       "    <tr>\n",
       "      <th>O3_436nm</th>\n",
       "      <td>436.443598</td>\n",
       "      <td>436.44360</td>\n",
       "      <td>429.897570</td>\n",
       "      <td>432.494291</td>\n",
       "      <td>435.817822</td>\n",
       "      <td>437.401787</td>\n",
       "      <td>439.206155</td>\n",
       "      <td>441.750863</td>\n",
       "      <td>O3-$436nm$</td>\n",
       "      <td>Angstrom</td>\n",
       "      <td>O3</td>\n",
       "      <td>col</td>\n",
       "      <td>0</td>\n",
       "    </tr>\n",
       "    <tr>\n",
       "      <th>He1_447nm</th>\n",
       "      <td>447.274040</td>\n",
       "      <td>447.27404</td>\n",
       "      <td>445.323193</td>\n",
       "      <td>446.639157</td>\n",
       "      <td>446.851915</td>\n",
       "      <td>447.876791</td>\n",
       "      <td>448.209876</td>\n",
       "      <td>449.824056</td>\n",
       "      <td>He1-$447nm$</td>\n",
       "      <td>Angstrom</td>\n",
       "      <td>He1</td>\n",
       "      <td>rec</td>\n",
       "      <td>0</td>\n",
       "    </tr>\n",
       "    <tr>\n",
       "      <th>He1_492nm</th>\n",
       "      <td>492.330504</td>\n",
       "      <td>492.33050</td>\n",
       "      <td>490.718146</td>\n",
       "      <td>491.762466</td>\n",
       "      <td>491.908118</td>\n",
       "      <td>492.953284</td>\n",
       "      <td>493.204228</td>\n",
       "      <td>494.116484</td>\n",
       "      <td>He1-$492nm$</td>\n",
       "      <td>Angstrom</td>\n",
       "      <td>He1</td>\n",
       "      <td>rec</td>\n",
       "      <td>0</td>\n",
       "    </tr>\n",
       "    <tr>\n",
       "      <th>O3_496nm</th>\n",
       "      <td>496.029500</td>\n",
       "      <td>496.02950</td>\n",
       "      <td>493.073376</td>\n",
       "      <td>494.818947</td>\n",
       "      <td>494.976792</td>\n",
       "      <td>497.217554</td>\n",
       "      <td>497.428449</td>\n",
       "      <td>498.588373</td>\n",
       "      <td>O3-$496nm$</td>\n",
       "      <td>Angstrom</td>\n",
       "      <td>O3</td>\n",
       "      <td>col</td>\n",
       "      <td>1</td>\n",
       "    </tr>\n",
       "    <tr>\n",
       "      <th>O3_501nm</th>\n",
       "      <td>500.824004</td>\n",
       "      <td>500.82400</td>\n",
       "      <td>497.326052</td>\n",
       "      <td>498.598165</td>\n",
       "      <td>499.681938</td>\n",
       "      <td>502.578172</td>\n",
       "      <td>502.922278</td>\n",
       "      <td>504.528111</td>\n",
       "      <td>O3-$501nm$</td>\n",
       "      <td>Angstrom</td>\n",
       "      <td>O3</td>\n",
       "      <td>col</td>\n",
       "      <td>1</td>\n",
       "    </tr>\n",
       "    <tr>\n",
       "      <th>He1_588nm</th>\n",
       "      <td>587.724329</td>\n",
       "      <td>587.72433</td>\n",
       "      <td>584.742570</td>\n",
       "      <td>586.742789</td>\n",
       "      <td>586.886434</td>\n",
       "      <td>588.729942</td>\n",
       "      <td>589.010016</td>\n",
       "      <td>590.358048</td>\n",
       "      <td>He1-$588nm$</td>\n",
       "      <td>Angstrom</td>\n",
       "      <td>He1</td>\n",
       "      <td>rec</td>\n",
       "      <td>0</td>\n",
       "    </tr>\n",
       "    <tr>\n",
       "      <th>He1_668nm</th>\n",
       "      <td>667.999556</td>\n",
       "      <td>667.99955</td>\n",
       "      <td>666.105098</td>\n",
       "      <td>667.204538</td>\n",
       "      <td>667.267813</td>\n",
       "      <td>669.001580</td>\n",
       "      <td>669.174956</td>\n",
       "      <td>670.012944</td>\n",
       "      <td>He1-$668nm$</td>\n",
       "      <td>Angstrom</td>\n",
       "      <td>He1</td>\n",
       "      <td>rec</td>\n",
       "      <td>0</td>\n",
       "    </tr>\n",
       "    <tr>\n",
       "      <th>S2_672nm</th>\n",
       "      <td>671.829502</td>\n",
       "      <td>671.82950</td>\n",
       "      <td>668.873329</td>\n",
       "      <td>670.826383</td>\n",
       "      <td>670.941255</td>\n",
       "      <td>672.742554</td>\n",
       "      <td>674.640249</td>\n",
       "      <td>676.192505</td>\n",
       "      <td>S2-$672nm$</td>\n",
       "      <td>Angstrom</td>\n",
       "      <td>S2</td>\n",
       "      <td>col</td>\n",
       "      <td>0</td>\n",
       "    </tr>\n",
       "    <tr>\n",
       "      <th>S2_673nm</th>\n",
       "      <td>673.267400</td>\n",
       "      <td>673.26740</td>\n",
       "      <td>668.873329</td>\n",
       "      <td>670.826383</td>\n",
       "      <td>672.741766</td>\n",
       "      <td>674.343008</td>\n",
       "      <td>674.640249</td>\n",
       "      <td>676.192505</td>\n",
       "      <td>S2-$673nm$</td>\n",
       "      <td>Angstrom</td>\n",
       "      <td>S2</td>\n",
       "      <td>col</td>\n",
       "      <td>0</td>\n",
       "    </tr>\n",
       "    <tr>\n",
       "      <th>He1_707nm</th>\n",
       "      <td>706.716328</td>\n",
       "      <td>706.71633</td>\n",
       "      <td>703.114524</td>\n",
       "      <td>704.368881</td>\n",
       "      <td>705.727267</td>\n",
       "      <td>708.149955</td>\n",
       "      <td>708.955184</td>\n",
       "      <td>710.651666</td>\n",
       "      <td>He1-$707nm$</td>\n",
       "      <td>Angstrom</td>\n",
       "      <td>He1</td>\n",
       "      <td>rec</td>\n",
       "      <td>0</td>\n",
       "    </tr>\n",
       "  </tbody>\n",
       "</table>\n",
       "</div>"
      ],
      "text/plain": [
       "           wavelength   wave_vac          w1          w2          w3  \\\n",
       "He1_403nm  402.733452  402.73345  401.503486  402.244991  402.270129   \n",
       "S2_407nm   406.974903  406.97490  405.938106  406.587703  406.630488   \n",
       "O3_436nm   436.443598  436.44360  429.897570  432.494291  435.817822   \n",
       "He1_447nm  447.274040  447.27404  445.323193  446.639157  446.851915   \n",
       "He1_492nm  492.330504  492.33050  490.718146  491.762466  491.908118   \n",
       "O3_496nm   496.029500  496.02950  493.073376  494.818947  494.976792   \n",
       "O3_501nm   500.824004  500.82400  497.326052  498.598165  499.681938   \n",
       "He1_588nm  587.724329  587.72433  584.742570  586.742789  586.886434   \n",
       "He1_668nm  667.999556  667.99955  666.105098  667.204538  667.267813   \n",
       "S2_672nm   671.829502  671.82950  668.873329  670.826383  670.941255   \n",
       "S2_673nm   673.267400  673.26740  668.873329  670.826383  672.741766   \n",
       "He1_707nm  706.716328  706.71633  703.114524  704.368881  705.727267   \n",
       "\n",
       "                   w4          w5          w6  latex_label units_wave  \\\n",
       "He1_403nm  403.335171  403.435647  404.138977  He1-$403nm$   Angstrom   \n",
       "S2_407nm   407.441240  408.159187  408.819158   S2-$407nm$   Angstrom   \n",
       "O3_436nm   437.401787  439.206155  441.750863   O3-$436nm$   Angstrom   \n",
       "He1_447nm  447.876791  448.209876  449.824056  He1-$447nm$   Angstrom   \n",
       "He1_492nm  492.953284  493.204228  494.116484  He1-$492nm$   Angstrom   \n",
       "O3_496nm   497.217554  497.428449  498.588373   O3-$496nm$   Angstrom   \n",
       "O3_501nm   502.578172  502.922278  504.528111   O3-$501nm$   Angstrom   \n",
       "He1_588nm  588.729942  589.010016  590.358048  He1-$588nm$   Angstrom   \n",
       "He1_668nm  669.001580  669.174956  670.012944  He1-$668nm$   Angstrom   \n",
       "S2_672nm   672.742554  674.640249  676.192505   S2-$672nm$   Angstrom   \n",
       "S2_673nm   674.343008  674.640249  676.192505   S2-$673nm$   Angstrom   \n",
       "He1_707nm  708.149955  708.955184  710.651666  He1-$707nm$   Angstrom   \n",
       "\n",
       "          particle transition  rel_int  \n",
       "He1_403nm      He1        rec        0  \n",
       "S2_407nm        S2        col        0  \n",
       "O3_436nm        O3        col        0  \n",
       "He1_447nm      He1        rec        0  \n",
       "He1_492nm      He1        rec        0  \n",
       "O3_496nm        O3        col        1  \n",
       "O3_501nm        O3        col        1  \n",
       "He1_588nm      He1        rec        0  \n",
       "He1_668nm      He1        rec        0  \n",
       "S2_672nm        S2        col        0  \n",
       "S2_673nm        S2        col        0  \n",
       "He1_707nm      He1        rec        0  "
      ]
     },
     "execution_count": 2,
     "metadata": {},
     "output_type": "execute_result"
    }
   ],
   "source": [
    "lime.line_bands(wave_intvl=(300, 900), particle_list=('He1','O3','S2'), units_wave='nm', decimals=None, vacuum=True)"
   ]
  },
  {
   "cell_type": "markdown",
   "id": "43255564",
   "metadata": {},
   "source": [
    "## Using a dataframe:"
   ]
  },
  {
   "cell_type": "markdown",
   "id": "5a5d6ff5",
   "metadata": {},
   "source": [
    "In $LiMe$, a bands table (and the output line measurement tables) variables are [pandas Dataframea](https://pandas.pydata.org/docs/reference/api/pandas.DataFrame.html)."
   ]
  },
  {
   "cell_type": "markdown",
   "id": "5b5eb51a",
   "metadata": {},
   "source": [
    "To get the data from a certain column you can use several commands:"
   ]
  },
  {
   "cell_type": "code",
   "execution_count": 3,
   "id": "cb3de25f",
   "metadata": {},
   "outputs": [
    {
     "name": "stdout",
     "output_type": "stream",
     "text": [
      "Columns Index(['wavelength', 'wave_vac', 'w1', 'w2', 'w3', 'w4', 'w5', 'w6',\n",
      "       'latex_label', 'units_wave', 'particle', 'transition', 'rel_int'],\n",
      "      dtype='object')\n",
      "['H1_1215A' 'C4_1548A' 'He2_1640A' 'O3_1666A' 'C3_1908A'], ['H1' 'C4' 'He2' 'O3' 'C3'], [1215.1108 1547.6001 1639.7896 1665.5438 1908.0803]\n"
     ]
    }
   ],
   "source": [
    "# Table columns\n",
    "print('Columns', bands_df.columns)\n",
    "\n",
    "# The index is the first column which is used to index the columns:\n",
    "labels = bands_df.index.to_numpy()\n",
    "\n",
    "# Get certain columns\n",
    "ions = bands_df['particle'].to_numpy()\n",
    "wave_array = bands_df.wavelength.to_numpy()\n",
    "\n",
    "# First five values from these columns\n",
    "print(f\"{labels[:5]}, {ions[:5]}, {wave_array[:5]}\")"
   ]
  },
  {
   "cell_type": "markdown",
   "id": "f440e5fe",
   "metadata": {},
   "source": [
    "Similarly, you can use these comands to get the data from the rows:"
   ]
  },
  {
   "cell_type": "code",
   "execution_count": 4,
   "id": "e3f435e6",
   "metadata": {},
   "outputs": [
    {
     "name": "stdout",
     "output_type": "stream",
     "text": [
      "[1215.1108 1215.6699 1100.0 1150.0 1195.0 1230.0 1250.0 1300.0\n",
      " 'H1-$1215\\\\mathring{A}$' 'Angstrom' 'H1' 'rec' 0]\n",
      "[4861.2582 4862.691 4809.8 4836.1 4848.715437 4876.181741 4883.13 4908.4\n",
      " 'H1-$4861\\\\mathring{A}$' 'Angstrom' 'H1' 'rec' 1]\n"
     ]
    }
   ],
   "source": [
    "H1_1215A_params = bands_df.iloc[0].to_numpy()\n",
    "H1_4861A_params = bands_df.loc['H1_4861A'].to_numpy()\n",
    "print(H1_1215A_params)\n",
    "print(H1_4861A_params)"
   ]
  },
  {
   "cell_type": "markdown",
   "id": "abcf1984",
   "metadata": {},
   "source": [
    "Finally, you can combine these commands to access the data from certain cells:"
   ]
  },
  {
   "cell_type": "code",
   "execution_count": 5,
   "id": "1955b5c4",
   "metadata": {},
   "outputs": [
    {
     "data": {
      "text/plain": [
       "1215.1108"
      ]
     },
     "execution_count": 5,
     "metadata": {},
     "output_type": "execute_result"
    }
   ],
   "source": [
    "bands_df.at['H1_1215A', 'wavelength']"
   ]
  },
  {
   "cell_type": "code",
   "execution_count": 6,
   "id": "e0251a6e",
   "metadata": {},
   "outputs": [
    {
     "data": {
      "text/plain": [
       "(1215.1108, 1215.1108)"
      ]
     },
     "execution_count": 6,
     "metadata": {},
     "output_type": "execute_result"
    }
   ],
   "source": [
    "bands_df.loc['H1_1215A', 'wavelength'], bands_df.loc['H1_1215A'].wavelength"
   ]
  },
  {
   "cell_type": "code",
   "execution_count": 7,
   "id": "cc2501c4",
   "metadata": {},
   "outputs": [
    {
     "data": {
      "text/plain": [
       "(array([1215.1108, 4861.2582]),)"
      ]
     },
     "execution_count": 7,
     "metadata": {},
     "output_type": "execute_result"
    }
   ],
   "source": [
    "bands_df.loc[['H1_1215A', 'H1_4861A'], 'wavelength'].to_numpy(), "
   ]
  },
  {
   "cell_type": "code",
   "execution_count": 8,
   "id": "95a1054a",
   "metadata": {},
   "outputs": [
    {
     "data": {
      "text/plain": [
       "array([1215.1108, 1547.6001, 1639.7896])"
      ]
     },
     "execution_count": 8,
     "metadata": {},
     "output_type": "execute_result"
    }
   ],
   "source": [
    "bands_df.loc['H1_1215A':'He2_1640A', 'wavelength'].to_numpy()"
   ]
  },
  {
   "cell_type": "code",
   "execution_count": 9,
   "id": "6827152a",
   "metadata": {},
   "outputs": [
    {
     "data": {
      "text/plain": [
       "array([1100.0, 1150.0, 1195.0, 1230.0, 1250.0, 1300.0], dtype=object)"
      ]
     },
     "execution_count": 9,
     "metadata": {},
     "output_type": "execute_result"
    }
   ],
   "source": [
    "bands_df.loc['H1_1215A', 'w1':'w6'].to_numpy()"
   ]
  },
  {
   "cell_type": "markdown",
   "id": "e2ce4105",
   "metadata": {},
   "source": [
    "## Load/save a bands dataframe/measurements log:"
   ]
  },
  {
   "cell_type": "markdown",
   "id": "f0e56e31",
   "metadata": {},
   "source": [
    "To save these dataframes you can use the [``save_frame``](https://lime-stable.readthedocs.io/en/latest/introduction/api.html#lime.save_log):"
   ]
  },
  {
   "cell_type": "code",
   "execution_count": 10,
   "id": "1f22d697",
   "metadata": {},
   "outputs": [],
   "source": [
    "# Save to the current folder in several formats:\n",
    "lime.save_frame('bands_frame.txt', bands_df)\n",
    "lime.save_frame('bands_frame.pdf', bands_df, parameters=['wavelength', 'latex_label'])"
   ]
  },
  {
   "cell_type": "markdown",
   "id": "daf45d0b",
   "metadata": {},
   "source": [
    "In files with a multi-page structure you can specify the extension:"
   ]
  },
  {
   "cell_type": "code",
   "execution_count": 11,
   "id": "a0442103",
   "metadata": {},
   "outputs": [],
   "source": [
    "lime.save_frame('bands_frame.xlsx', bands_df, page='BANDS')\n",
    "lime.save_frame('bands_frame.fits', bands_df, page='BANDS')"
   ]
  },
  {
   "cell_type": "markdown",
   "id": "8c0f2552",
   "metadata": {},
   "source": [
    "Similarly, to read these files as a pandas dataframe you can use:"
   ]
  },
  {
   "cell_type": "code",
   "execution_count": 12,
   "id": "f48bf0bd",
   "metadata": {},
   "outputs": [],
   "source": [
    "bands_df_txt = lime.load_frame('bands_frame.txt')\n",
    "bands_df_xlsx = lime.load_frame('bands_frame.xlsx', page='BANDS')\n",
    "bands_df_fits = lime.load_frame('bands_frame.fits', page='BANDS')"
   ]
  },
  {
   "cell_type": "markdown",
   "id": "54ae315a",
   "metadata": {},
   "source": [
    "## Updating the bands database:"
   ]
  },
  {
   "cell_type": "markdown",
   "id": "2e4ea0fd",
   "metadata": {},
   "source": [
    "The user is adviced to keep his/her own bands database with the bands and latex labels he/she prefers. Afterwards, you can use it in $LiMe$ functions (including ``lime.line_bands``) to run your scripts. However, in case you need to update the default database you can recover its location with this command:"
   ]
  },
  {
   "cell_type": "code",
   "execution_count": 13,
   "id": "bda0862d",
   "metadata": {},
   "outputs": [
    {
     "data": {
      "text/plain": [
       "PosixPath('/home/vital/PycharmProjects/lime/src/lime/resources/parent_bands.txt')"
      ]
     },
     "execution_count": 13,
     "metadata": {},
     "output_type": "execute_result"
    }
   ],
   "source": [
    "lime.io._parent_bands_file"
   ]
  },
  {
   "cell_type": "markdown",
   "id": "d8c911cf",
   "metadata": {},
   "source": [
    "<div class=\"alert alert-info\">\n",
    "\n",
    "**Please remember:** If you need to update the default $LiMe$ lines database make sure to fill all the columns. If there is any issue you can download the default database from the [github](https://github.com/Vital-Fernandez/lime/blob/310d42ac507862a472c0bc14d291f216cb05e9d3/src/lime/resources/parent_mask.txt) (or reinstall $LiMe$)\n",
    "\n",
    "</div>"
   ]
  }
 ],
 "metadata": {
  "kernelspec": {
   "display_name": "Python 3 (ipykernel)",
   "language": "python",
   "name": "python3"
  },
  "language_info": {
   "codemirror_mode": {
    "name": "ipython",
    "version": 3
   },
   "file_extension": ".py",
   "mimetype": "text/x-python",
   "name": "python",
   "nbconvert_exporter": "python",
   "pygments_lexer": "ipython3",
   "version": "3.10.12"
  }
 },
 "nbformat": 4,
 "nbformat_minor": 5
}
