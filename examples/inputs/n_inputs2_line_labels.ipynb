{
 "cells": [
  {
   "cell_type": "code",
   "execution_count": 1,
   "id": "294e1e5b",
   "metadata": {},
   "outputs": [],
   "source": [
    "%matplotlib widget"
   ]
  },
  {
   "cell_type": "markdown",
   "id": "e0547148",
   "metadata": {},
   "source": [
    "# Line labels"
   ]
  },
  {
   "cell_type": "markdown",
   "id": "e8c047ad",
   "metadata": {},
   "source": [
    "The first input for $LiMe$ measurements is the label for the line being measured. Our notation follows the style used by the [PyNeb](http://research.iac.es/proyecto/PyNeb/) library package by [V. Luridiana, C. Morisset and R. A. Shaw (2015)](https://www.aanda.org/articles/aa/abs/2015/01/aa23152-13/aa23152-13.html)."
   ]
  },
  {
   "cell_type": "markdown",
   "id": "dd9e514b",
   "metadata": {},
   "source": [
    "The core elements are the particle responsible for the transition, the transition wavelength (with its units) and the profile modularity."
   ]
  },
  {
   "cell_type": "markdown",
   "id": "ddfbd35e",
   "metadata": {},
   "source": [
    "Additional suffixes provide additional information for the transition properties and/or profile fitting conditions. The image below shows some example:"
   ]
  },
  {
   "cell_type": "code",
   "execution_count": 10,
   "id": "8a717170",
   "metadata": {},
   "outputs": [],
   "source": [
    "# # Import libraries for the example\n",
    "# from IPython.display import Image, display\n",
    "# import lime"
   ]
  },
  {
   "cell_type": "code",
   "execution_count": 11,
   "id": "b24e9e14-489f-4b1c-be9d-6a06836b6df0",
   "metadata": {},
   "outputs": [],
   "source": [
    "# display(Image(filename='../images/label_components.png', width = 1200))"
   ]
  },
  {
   "cell_type": "markdown",
   "id": "742828d4-8724-4326-9536-532cf7efe2d1",
   "metadata": {},
   "source": [
    "<img src=\"../images/label_components.png\" width=\"1200\" />"
   ]
  },
  {
   "cell_type": "markdown",
   "id": "b0e33a81",
   "metadata": {},
   "source": [
    "## Core components "
   ]
  },
  {
   "cell_type": "markdown",
   "id": "2326e35c",
   "metadata": {},
   "source": [
    "These are the compulsory elements of the label whose order is fixed."
   ]
  },
  {
   "cell_type": "markdown",
   "id": "d0f4a23b",
   "metadata": {},
   "source": [
    "### 1) Particle component"
   ]
  },
  {
   "cell_type": "markdown",
   "id": "0acc815f",
   "metadata": {},
   "source": [
    "The first component of the line label is the particle responsible for the transition\n",
    "\n",
    "By default $LiMe$ expects the particle [chemical symbol](https://en.wikipedia.org/wiki/Chemical_symbol) followed by the ionization state in Arabic numerals. If the particle is recognized, its mass will be used to compute the thermal dispersion velocity in the output measurements. The user can add additional details to the transition by via dashses. "
   ]
  },
  {
   "cell_type": "markdown",
   "id": "0b43088a-7eb2-4279-af00-c0000636807d",
   "metadata": {},
   "source": [
    "For example: *H1_18750A*, *H1-PashchenAlpha_1875nm*, or *H1-4-3_1875.0nm* are all processed similarly."
   ]
  },
  {
   "cell_type": "markdown",
   "id": "e5dea3ca",
   "metadata": {},
   "source": [
    "### 2) Wavelength component"
   ]
  },
  {
   "cell_type": "markdown",
   "id": "8405b8aa",
   "metadata": {},
   "source": [
    "The second item is the transition wavelength. This positive real number must be followed by the transition’s wavelength or frequency units. These units must follow [AstroPy notation](https://docs.astropy.org/en/stable/units/standard_units.html), with the exception of the **Angstroms** which can be defined with an \"**A**\", in addition to \"**AA**\" or \"**Angstrom**\"\"."
   ]
  },
  {
   "cell_type": "markdown",
   "id": "634ae76f-06b2-4563-a8e6-f4b4c6586bbf",
   "metadata": {},
   "source": [
    "<div class=\"alert alert-info\">\n",
    "\n",
    "**Please remember:** $LiMe$ assumes that this wavelength is in the restframe. \n",
    "\n",
    "</div>"
   ]
  },
  {
   "cell_type": "markdown",
   "id": "f01cf355",
   "metadata": {},
   "source": [
    "### 3) Modularity component"
   ]
  },
  {
   "cell_type": "markdown",
   "id": "8714f3a1",
   "metadata": {},
   "source": [
    "The final core component informs $LiMe$ if the line profile fitting consists in one or multiple profiles. This item must be at the end of the line label string. The following images provide show examples of for the three type of modules for the fitting of the same transitions the $[SII]6716,6731Å$ doublet:"
   ]
  },
  {
   "cell_type": "markdown",
   "id": "bc6a8f92",
   "metadata": {},
   "source": [
    "#### Single line"
   ]
  },
  {
   "cell_type": "markdown",
   "id": "bc56bba5",
   "metadata": {},
   "source": [
    "A single emission or absorption line can be modeled with a single profile:"
   ]
  },
  {
   "cell_type": "markdown",
   "id": "89dabe27-15c7-418a-8b16-4de8873cd927",
   "metadata": {},
   "source": [
    "<img src='../images/SingleLine_diagram.png' width=\"1200\" />"
   ]
  },
  {
   "cell_type": "markdown",
   "id": "79fda1d0",
   "metadata": {},
   "source": [
    "This is the default profile fitting and no suffix is required."
   ]
  },
  {
   "cell_type": "markdown",
   "id": "45965333",
   "metadata": {},
   "source": [
    "#### Blended line"
   ]
  },
  {
   "cell_type": "markdown",
   "id": "80b89dc8",
   "metadata": {},
   "source": [
    "A blended line consists in several transtions and/or kinematic components. If the user adds the the *\"_b\"* suffix **and** includes the components in the fitting configuration (joined by \"+\"). $LiMe$ will proceed to fit one profile per component:"
   ]
  },
  {
   "cell_type": "markdown",
   "id": "d22ae5f2-9b9f-4bae-814a-6f4b7a342ebe",
   "metadata": {},
   "source": [
    "<img src='../images/BlendedLine_diagram.png' width=\"1200\" />"
   ]
  },
  {
   "cell_type": "markdown",
   "id": "8b1e2d91",
   "metadata": {},
   "source": [
    "In the example, we fit both $[SII]6716,6731Å$ transitions, where each line has 2 additional kinematic components. These kinematic components must include the kinematic suffix  (_k-1, _k-2, ...).   "
   ]
  },
  {
   "cell_type": "markdown",
   "id": "07ede7e7",
   "metadata": {},
   "source": [
    "#### Merged line"
   ]
  },
  {
   "cell_type": "markdown",
   "id": "6f6c8eac",
   "metadata": {},
   "source": [
    "A merged line assumes that there are multiple transition contributing to the observed line but only one profile is fitted. If the user adds the *\"_m\"* suffix **and** includes the components in the fitting configuration (joined by \"+\") these components will be included alongside the line measurements."
   ]
  },
  {
   "cell_type": "markdown",
   "id": "a84d2a9f-c3c8-4cbf-b9be-af066c365a2e",
   "metadata": {},
   "source": [
    "<img src='../images/MergedLine_diagram.png' width=\"1200\" />"
   ]
  },
  {
   "cell_type": "markdown",
   "id": "02b84eab",
   "metadata": {},
   "source": [
    "This classification is useful in those cases where the user wants to keep track of the transitions contributing to a line flux but the instrument resolution is not good enough to distinguish between components. In the case above, we can see that the noise has devoured the $[SII]6716Å$ transition and only the $[SII]6731Å$ can be fitted. In the output table, the line will be saved as \"S2_6718A_m\" with the ``profile_label=S2_6718A+S2_6733A``."
   ]
  },
  {
   "cell_type": "markdown",
   "id": "01a11d71",
   "metadata": {},
   "source": [
    "## Optional suffixes "
   ]
  },
  {
   "cell_type": "markdown",
   "id": "c1f65d77",
   "metadata": {},
   "source": [
    "Unlike the core components, the optional suffixes have default values. This means that the user **can exclude them** from the label and they have a **free order**:"
   ]
  },
  {
   "cell_type": "markdown",
   "id": "4cb03e5c-7acc-4cb8-b1d1-e9c9f5c8fbd7",
   "metadata": {},
   "source": [
    "<img src='../images/label_all_components.png' width=\"1200\" />"
   ]
  },
  {
   "cell_type": "markdown",
   "id": "e4b30e96",
   "metadata": {},
   "source": [
    "If the user includes any of these components they **must start** with a certain letter followed by a dash **\"-\"**."
   ]
  },
  {
   "cell_type": "markdown",
   "id": "19803d2b",
   "metadata": {},
   "source": [
    "### 1) Kinematic suffix (k)"
   ]
  },
  {
   "cell_type": "markdown",
   "id": "cb0ad7fd",
   "metadata": {},
   "source": [
    "This first item is the letter \"k\", while the second one is the component cardinal number. In single and merged lines, $LiMe$ assumes the unique component is \"0\". Therefore, in blended lines, the user should name the second component k-1, the third as k-2, and so on.\n",
    "\n",
    " "
   ]
  },
  {
   "cell_type": "markdown",
   "id": "4c4c56dd-aab2-4216-98cc-8bd819e6e538",
   "metadata": {},
   "source": [
    "<div class=\"alert alert-info\">\n",
    "\n",
    "**Please remember:** It's recommended to define the kinematic components from lower to higher dispersion velocity. However, users need to specify the boundary conditions in the fitting configuration to ensure such a pattern: \n",
    "\n",
    "</div>"
   ]
  },
  {
   "cell_type": "markdown",
   "id": "f0c5c8db",
   "metadata": {},
   "source": [
    "```\n",
    "O3_5007A_b = O3_5007A+O3_5007A_k-1+O3_5007A_k-2\n",
    "\n",
    "O3_5007A_k-1_sigma = expr:>2.0*O3_5007A_sigma\n",
    "\n",
    "O3_5007A_k-2_sigma = expr:>2.0*O3_5007A_k-1_sigma\n",
    "```\n"
   ]
  },
  {
   "cell_type": "markdown",
   "id": "9d23e96c",
   "metadata": {},
   "source": [
    "where ```O3_5007A``` would be the narrower component."
   ]
  },
  {
   "cell_type": "markdown",
   "id": "d0bc1dbd",
   "metadata": {},
   "source": [
    "### 2) Profile suffix (p)"
   ]
  },
  {
   "cell_type": "markdown",
   "id": "208b0366",
   "metadata": {},
   "source": [
    "The first item is the letter \"p\" followed by a pair of strings specifying the profile type. At present, LiMe fits Gaussian, Lorentz, pseudo-Voigt and exponential profiles in emission or absorption. These are some examples:\n",
    "\n",
    "* p-g or p-g-emis: Emission Gaussian (Default)\n",
    "* p-abs or p-g-abs : Absorption Gaussian \n",
    "* p-l-abs: Absorption Lorentz \n",
    "* p-e or p-e-emis: Emission exponential \n",
    "* p-pv or p-pv-emis: Emission Pseudo-Voigt emissio"
   ]
  },
  {
   "cell_type": "markdown",
   "id": "e3207325",
   "metadata": {},
   "source": [
    "### 3)Type component (t)"
   ]
  },
  {
   "cell_type": "markdown",
   "id": "d23a7144",
   "metadata": {},
   "source": [
    "This component provides information regarding the line transition in order to construct its classical notation using latex. The options currently available are:\n",
    "\n",
    "* t-rec: Recombination line\n",
    "* t-col: Collisional excited line\n",
    "* t-sem: Semi-forbidden transition line\n",
    "* t-mol: Mollecular line"
   ]
  }
 ],
 "metadata": {
  "kernelspec": {
   "display_name": "Python 3 (ipykernel)",
   "language": "python",
   "name": "python3"
  },
  "language_info": {
   "codemirror_mode": {
    "name": "ipython",
    "version": 3
   },
   "file_extension": ".py",
   "mimetype": "text/x-python",
   "name": "python",
   "nbconvert_exporter": "python",
   "pygments_lexer": "ipython3",
   "version": "3.11.7"
  }
 },
 "nbformat": 4,
 "nbformat_minor": 5
}
